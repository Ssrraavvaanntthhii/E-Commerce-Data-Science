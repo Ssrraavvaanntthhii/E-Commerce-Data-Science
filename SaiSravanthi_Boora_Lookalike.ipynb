{
 "cells": [
  {
   "cell_type": "markdown",
   "id": "3dd3856c-5fb7-48d9-b62d-04912b38d399",
   "metadata": {},
   "source": [
    "# 1)Importing necessary libraries"
   ]
  },
  {
   "cell_type": "code",
   "execution_count": 1,
   "id": "d6ea6eb6-eea4-46e7-be79-41189e0ee141",
   "metadata": {},
   "outputs": [],
   "source": [
    "import pandas as pd\n",
    "import numpy as np\n",
    "import matplotlib.pyplot as plt\n",
    "import seaborn as sns"
   ]
  },
  {
   "cell_type": "markdown",
   "id": "9b8eb67f-a3c9-42dd-9cbb-45471a9b08dc",
   "metadata": {},
   "source": [
    "# 2)Loading the datasets"
   ]
  },
  {
   "cell_type": "code",
   "execution_count": 2,
   "id": "a6e349bb-aef1-42a3-8d60-27b79e5fe4cf",
   "metadata": {},
   "outputs": [],
   "source": [
    "customers = pd.read_csv(\"C:/Users/srava/OneDrive/Desktop/Customers.csv\")\n",
    "products = pd.read_csv(\"C:/Users/srava/OneDrive/Desktop/Products.csv\")\n",
    "transactions = pd.read_csv(\"C:/Users/srava/OneDrive/Desktop/Transactions.csv\")"
   ]
  },
  {
   "cell_type": "markdown",
   "id": "611bb969-f7b0-4003-a452-f09cb44232f4",
   "metadata": {},
   "source": [
    "# 3)Data Preparation"
   ]
  },
  {
   "cell_type": "code",
   "execution_count": 3,
   "id": "a906490e-55f8-48c3-9d3a-4155d02095ba",
   "metadata": {},
   "outputs": [],
   "source": [
    "# Merging customers data with transactions and product data to create a unified dataset\n",
    "customer_data = customers.merge(transactions, on='CustomerID', how='left')\n",
    "customer_data = customer_data.merge(products, on='ProductID', how='left')\n",
    "\n",
    "# Now we have a dataset that includes CustomerID, ProductID, Transaction details, Product details, etc.\n"
   ]
  },
  {
   "cell_type": "code",
   "execution_count": 4,
   "id": "f953d064-317a-42a3-aa32-4fbf318fb3be",
   "metadata": {},
   "outputs": [
    {
     "data": {
      "text/html": [
       "<div>\n",
       "<style scoped>\n",
       "    .dataframe tbody tr th:only-of-type {\n",
       "        vertical-align: middle;\n",
       "    }\n",
       "\n",
       "    .dataframe tbody tr th {\n",
       "        vertical-align: top;\n",
       "    }\n",
       "\n",
       "    .dataframe thead th {\n",
       "        text-align: right;\n",
       "    }\n",
       "</style>\n",
       "<table border=\"1\" class=\"dataframe\">\n",
       "  <thead>\n",
       "    <tr style=\"text-align: right;\">\n",
       "      <th></th>\n",
       "      <th>CustomerID</th>\n",
       "      <th>CustomerName</th>\n",
       "      <th>Region</th>\n",
       "      <th>SignupDate</th>\n",
       "      <th>TransactionID</th>\n",
       "      <th>ProductID</th>\n",
       "      <th>TransactionDate</th>\n",
       "      <th>Quantity</th>\n",
       "      <th>TotalValue</th>\n",
       "      <th>Price_x</th>\n",
       "      <th>ProductName</th>\n",
       "      <th>Category</th>\n",
       "      <th>Price_y</th>\n",
       "    </tr>\n",
       "  </thead>\n",
       "  <tbody>\n",
       "    <tr>\n",
       "      <th>0</th>\n",
       "      <td>C0001</td>\n",
       "      <td>Lawrence Carroll</td>\n",
       "      <td>South America</td>\n",
       "      <td>2022-07-10</td>\n",
       "      <td>T00015</td>\n",
       "      <td>P054</td>\n",
       "      <td>2024-01-19 3:12:55</td>\n",
       "      <td>2.0</td>\n",
       "      <td>114.60</td>\n",
       "      <td>57.30</td>\n",
       "      <td>SoundWave Cookbook</td>\n",
       "      <td>Books</td>\n",
       "      <td>57.30</td>\n",
       "    </tr>\n",
       "    <tr>\n",
       "      <th>1</th>\n",
       "      <td>C0001</td>\n",
       "      <td>Lawrence Carroll</td>\n",
       "      <td>South America</td>\n",
       "      <td>2022-07-10</td>\n",
       "      <td>T00932</td>\n",
       "      <td>P022</td>\n",
       "      <td>2024-09-17 9:01:18</td>\n",
       "      <td>3.0</td>\n",
       "      <td>412.62</td>\n",
       "      <td>137.54</td>\n",
       "      <td>HomeSense Wall Art</td>\n",
       "      <td>Home Decor</td>\n",
       "      <td>137.54</td>\n",
       "    </tr>\n",
       "    <tr>\n",
       "      <th>2</th>\n",
       "      <td>C0001</td>\n",
       "      <td>Lawrence Carroll</td>\n",
       "      <td>South America</td>\n",
       "      <td>2022-07-10</td>\n",
       "      <td>T00085</td>\n",
       "      <td>P096</td>\n",
       "      <td>2024-04-08 0:01:00</td>\n",
       "      <td>2.0</td>\n",
       "      <td>614.94</td>\n",
       "      <td>307.47</td>\n",
       "      <td>SoundWave Headphones</td>\n",
       "      <td>Electronics</td>\n",
       "      <td>307.47</td>\n",
       "    </tr>\n",
       "    <tr>\n",
       "      <th>3</th>\n",
       "      <td>C0001</td>\n",
       "      <td>Lawrence Carroll</td>\n",
       "      <td>South America</td>\n",
       "      <td>2022-07-10</td>\n",
       "      <td>T00445</td>\n",
       "      <td>P083</td>\n",
       "      <td>2024-05-07 3:11:44</td>\n",
       "      <td>2.0</td>\n",
       "      <td>911.44</td>\n",
       "      <td>455.72</td>\n",
       "      <td>ActiveWear Smartwatch</td>\n",
       "      <td>Electronics</td>\n",
       "      <td>455.72</td>\n",
       "    </tr>\n",
       "    <tr>\n",
       "      <th>4</th>\n",
       "      <td>C0001</td>\n",
       "      <td>Lawrence Carroll</td>\n",
       "      <td>South America</td>\n",
       "      <td>2022-07-10</td>\n",
       "      <td>T00436</td>\n",
       "      <td>P029</td>\n",
       "      <td>2024-11-02 17:04:16</td>\n",
       "      <td>3.0</td>\n",
       "      <td>1300.92</td>\n",
       "      <td>433.64</td>\n",
       "      <td>TechPro Headphones</td>\n",
       "      <td>Electronics</td>\n",
       "      <td>433.64</td>\n",
       "    </tr>\n",
       "  </tbody>\n",
       "</table>\n",
       "</div>"
      ],
      "text/plain": [
       "  CustomerID      CustomerName         Region  SignupDate TransactionID  \\\n",
       "0      C0001  Lawrence Carroll  South America  2022-07-10        T00015   \n",
       "1      C0001  Lawrence Carroll  South America  2022-07-10        T00932   \n",
       "2      C0001  Lawrence Carroll  South America  2022-07-10        T00085   \n",
       "3      C0001  Lawrence Carroll  South America  2022-07-10        T00445   \n",
       "4      C0001  Lawrence Carroll  South America  2022-07-10        T00436   \n",
       "\n",
       "  ProductID      TransactionDate  Quantity  TotalValue  Price_x  \\\n",
       "0      P054   2024-01-19 3:12:55       2.0      114.60    57.30   \n",
       "1      P022   2024-09-17 9:01:18       3.0      412.62   137.54   \n",
       "2      P096   2024-04-08 0:01:00       2.0      614.94   307.47   \n",
       "3      P083   2024-05-07 3:11:44       2.0      911.44   455.72   \n",
       "4      P029  2024-11-02 17:04:16       3.0     1300.92   433.64   \n",
       "\n",
       "             ProductName     Category  Price_y  \n",
       "0     SoundWave Cookbook        Books    57.30  \n",
       "1     HomeSense Wall Art   Home Decor   137.54  \n",
       "2   SoundWave Headphones  Electronics   307.47  \n",
       "3  ActiveWear Smartwatch  Electronics   455.72  \n",
       "4     TechPro Headphones  Electronics   433.64  "
      ]
     },
     "execution_count": 4,
     "metadata": {},
     "output_type": "execute_result"
    }
   ],
   "source": [
    "customer_data.head(5)"
   ]
  },
  {
   "cell_type": "code",
   "execution_count": 5,
   "id": "cd1d6d79-bb0c-4697-8971-7cd1292dbf91",
   "metadata": {},
   "outputs": [
    {
     "data": {
      "text/plain": [
       "CustomerID         0\n",
       "CustomerName       0\n",
       "Region             0\n",
       "SignupDate         0\n",
       "TransactionID      1\n",
       "ProductID          1\n",
       "TransactionDate    1\n",
       "Quantity           1\n",
       "TotalValue         1\n",
       "Price_x            1\n",
       "ProductName        1\n",
       "Category           1\n",
       "Price_y            1\n",
       "dtype: int64"
      ]
     },
     "execution_count": 5,
     "metadata": {},
     "output_type": "execute_result"
    }
   ],
   "source": [
    "customer_data.isnull().sum()"
   ]
  },
  {
   "cell_type": "code",
   "execution_count": 8,
   "id": "953b6349-b789-4425-9c34-30d7a8f6bee3",
   "metadata": {},
   "outputs": [
    {
     "name": "stdout",
     "output_type": "stream",
     "text": [
      "0\n"
     ]
    }
   ],
   "source": [
    "print(customer_data.duplicated().sum())"
   ]
  },
  {
   "cell_type": "code",
   "execution_count": 9,
   "id": "53ac4d2e-87c4-48ca-9c7b-000a7b689e71",
   "metadata": {},
   "outputs": [
    {
     "name": "stdout",
     "output_type": "stream",
     "text": [
      "    CustomerID   CustomerName Region  SignupDate TransactionID ProductID  \\\n",
      "904      C0180  Amy Carpenter   Asia  2023-10-25           NaN       NaN   \n",
      "\n",
      "    TransactionDate  Quantity  TotalValue  Price_x ProductName Category  \\\n",
      "904             NaN       NaN         NaN      NaN         NaN      NaN   \n",
      "\n",
      "     Price_y  \n",
      "904      NaN  \n"
     ]
    }
   ],
   "source": [
    "# Get all rows where any column has a null value\n",
    "rows_with_null = customer_data[customer_data.isnull().any(axis=1)]\n",
    "\n",
    "# Display the rows with missing values\n",
    "print(rows_with_null)\n"
   ]
  },
  {
   "cell_type": "markdown",
   "id": "6b7b9398-f3da-452a-aefe-cf6143d2391f",
   "metadata": {},
   "source": [
    "# 4)Feature Engineering"
   ]
  },
  {
   "cell_type": "code",
   "execution_count": 11,
   "id": "64991c97-7f80-4006-81bc-70e389444e5d",
   "metadata": {},
   "outputs": [],
   "source": [
    "# Feature engineering: Aggregating transaction data per customer\n",
    "customer_profile = customer_data.groupby('CustomerID').agg(\n",
    "    total_spending=('TotalValue', 'sum'),\n",
    "    num_transactions=('TransactionID', 'nunique'),\n",
    "    num_products=('ProductID', 'nunique'),\n",
    "    most_frequent_category=('Category', lambda x: x.mode().iloc[0] if not x.mode().empty else \"Unknown\")\n",
    ").reset_index()\n"
   ]
  },
  {
   "cell_type": "markdown",
   "id": "24601e3c-da11-4e39-8528-fcebee563073",
   "metadata": {},
   "source": [
    "# 4)Similarity Calculation"
   ]
  },
  {
   "cell_type": "code",
   "execution_count": 12,
   "id": "ae128d91-b116-43a0-8aa0-fa4e1cc355fb",
   "metadata": {},
   "outputs": [],
   "source": [
    "from sklearn.metrics.pairwise import cosine_similarity\n",
    "from sklearn.preprocessing import StandardScaler\n",
    "\n",
    "# Normalize the features for cosine similarity calculation\n",
    "scaler = StandardScaler()\n",
    "customer_features = customer_profile[['total_spending', 'num_transactions', 'num_products']]\n",
    "\n",
    "# Standardize the features\n",
    "customer_features_scaled = scaler.fit_transform(customer_features)\n",
    "\n",
    "# Compute cosine similarity between customers\n",
    "similarity_matrix = cosine_similarity(customer_features_scaled)\n"
   ]
  },
  {
   "cell_type": "markdown",
   "id": "5a18a8e1-7b10-411e-b658-fd4095870056",
   "metadata": {},
   "source": [
    "# 5)Generate Recommendations"
   ]
  },
  {
   "cell_type": "code",
   "execution_count": 31,
   "id": "c5030511-36dd-4da1-8e69-a41499fab7bc",
   "metadata": {},
   "outputs": [
    {
     "name": "stdout",
     "output_type": "stream",
     "text": [
      "Lookalike.csv created in the required format!\n"
     ]
    }
   ],
   "source": [
    "# Prepare the results\n",
    "lookalike_recommendations = {}\n",
    "\n",
    "# For customers C0001 to C0020, find the top 3 similar customers\n",
    "for i in range(20):  # Assuming first 20 customers (C0001 to C0020)\n",
    "    customer_id = f\"C{str(i+1).zfill(4)}\"\n",
    "    customer_idx = customer_profile[customer_profile['CustomerID'] == customer_id].index[0]\n",
    "    \n",
    "    # Get similarity scores for the customer\n",
    "    similarity_scores = similarity_matrix[customer_idx]\n",
    "    \n",
    "    # Get indices of the top 3 most similar customers (excluding the customer themselves)\n",
    "    similar_customer_indices = similarity_scores.argsort()[-4:-1][::-1]  # Exclude self and sort by similarity\n",
    "    \n",
    "    # Format recommended customers as \"C000X:-85\" with scores out of 100\n",
    "    recommended_customers = [f\"{customer_profile.iloc[idx]['CustomerID']}:-{int(round(similarity_scores[idx] * 100))}\"\n",
    "                             for idx in similar_customer_indices]\n",
    "    \n",
    "    # Store in dictionary in the required format (comma-separated)\n",
    "    lookalike_recommendations[customer_id] = \", \".join(recommended_customers)\n",
    "\n",
    "# Convert to DataFrame\n",
    "lookalike_df_grouped = pd.DataFrame(lookalike_recommendations.items(), columns=['CustomerID', 'Recommendations'])\n",
    "\n",
    "# Save the results to Lookalike.csv\n",
    "lookalike_df_grouped.to_csv('C:/Users/srava/OneDrive/Desktop/Lookalike.csv', index=False)\n",
    "\n",
    "print(\"Lookalike.csv created in the required format!\")\n",
    "\n"
   ]
  },
  {
   "cell_type": "markdown",
   "id": "51649f43-dcfa-4e48-ab16-014016d2c677",
   "metadata": {},
   "source": [
    "# 6)Model Evaluation "
   ]
  },
  {
   "cell_type": "code",
   "execution_count": 27,
   "id": "023c7705-8aca-470b-b686-7a6cf4ceabab",
   "metadata": {},
   "outputs": [
    {
     "name": "stdout",
     "output_type": "stream",
     "text": [
      "Mean Average Precision (MAP): 100.0000\n"
     ]
    }
   ],
   "source": [
    "import numpy as np\n",
    "from sklearn.metrics import average_precision_score\n",
    "\n",
    "# Example: Ground truth similar customers for each customer\n",
    "true_lookalikes = {\n",
    "    'C0001': ['C0003', 'C0005', 'C0008'],\n",
    "    'C0002': ['C0012', 'C0017', 'C0004'],\n",
    "    'C0003': ['C0001', 'C0008', 'C0009'],\n",
    "    # Add more ground truth values...\n",
    "}\n",
    "\n",
    "# Example: Model's recommended similar customers\n",
    "predicted_lookalikes = {\n",
    "    'C0001': ['C0003', 'C0005', 'C0007'],\n",
    "    'C0002': ['C0012', 'C0004', 'C0009'],\n",
    "    'C0003': ['C0001', 'C0009', 'C0010'],\n",
    "    # Add more predictions...\n",
    "}\n",
    "\n",
    "def calculate_map(true_lookalikes, predicted_lookalikes):\n",
    "    \"\"\"Compute Mean Average Precision (MAP)\"\"\"\n",
    "    map_scores = []\n",
    "    \n",
    "    for cust_id, true_customers in true_lookalikes.items():\n",
    "        if cust_id in predicted_lookalikes:\n",
    "            pred_customers = predicted_lookalikes[cust_id]\n",
    "            \n",
    "            # Convert to binary relevance (1 if relevant, 0 otherwise)\n",
    "            y_true = [1 if cust in true_customers else 0 for cust in pred_customers]\n",
    "            \n",
    "            # Compute AP for this customer\n",
    "            if sum(y_true) > 0:  # Ensure there is at least one relevant item\n",
    "                ap_score = average_precision_score(y_true, y_true)\n",
    "                map_scores.append(ap_score)\n",
    "    \n",
    "    return np.mean(map_scores) if map_scores else 0\n",
    "\n",
    "# Compute MAP\n",
    "map_score = calculate_map(true_lookalikes, predicted_lookalikes)\n",
    "print(f\"Mean Average Precision (MAP): {map_score*100:.4f}\")\n",
    "\n",
    "\n"
   ]
  },
  {
   "cell_type": "code",
   "execution_count": 29,
   "id": "ad5c45af-0adf-476a-a3fb-8ef3cac010c3",
   "metadata": {},
   "outputs": [
    {
     "name": "stdout",
     "output_type": "stream",
     "text": [
      "Accuracy: 66.67%\n"
     ]
    }
   ],
   "source": [
    "def accuracy_out_of_100(true_lookalikes, predicted_lookalikes, k=3):\n",
    "    \"\"\"Compute Accuracy out of 100 for top-k recommendations\"\"\"\n",
    "    correct_predictions = 0\n",
    "    total_predictions = 0\n",
    "    \n",
    "    for cust_id, true_customers in true_lookalikes.items():\n",
    "        if cust_id in predicted_lookalikes:\n",
    "            pred_customers = predicted_lookalikes[cust_id][:k]\n",
    "            correct_predictions += len(set(pred_customers) & set(true_customers))\n",
    "            total_predictions += k\n",
    "    \n",
    "    # Calculate accuracy as percentage\n",
    "    accuracy_percentage = (correct_predictions / total_predictions) * 100 if total_predictions > 0 else 0\n",
    "    return accuracy_percentage\n",
    "\n",
    "# Compute accuracy\n",
    "accuracy = accuracy_out_of_100(true_lookalikes, predicted_lookalikes, k=3)\n",
    "print(f\"Accuracy: {accuracy:.2f}%\")\n"
   ]
  },
  {
   "cell_type": "code",
   "execution_count": 24,
   "id": "5757e48c-8ea3-4281-b7bb-69bba0344765",
   "metadata": {},
   "outputs": [
    {
     "name": "stdout",
     "output_type": "stream",
     "text": [
      "Precision@3: 66.6667\n",
      "Mean Reciprocal Rank (MRR): 100.0000\n"
     ]
    }
   ],
   "source": [
    "def precision_at_k(true_lookalikes, predicted_lookalikes, k=3):\n",
    "    \"\"\"Compute Precision@K\"\"\"\n",
    "    precisions = []\n",
    "    \n",
    "    for cust_id, true_customers in true_lookalikes.items():\n",
    "        if cust_id in predicted_lookalikes:\n",
    "            pred_customers = predicted_lookalikes[cust_id][:k]\n",
    "            precision = len(set(pred_customers) & set(true_customers)) / k\n",
    "            precisions.append(precision)\n",
    "    \n",
    "    return np.mean(precisions) if precisions else 0\n",
    "\n",
    "def mean_reciprocal_rank(true_lookalikes, predicted_lookalikes):\n",
    "    \"\"\"Compute Mean Reciprocal Rank (MRR)\"\"\"\n",
    "    mrr_scores = []\n",
    "    \n",
    "    for cust_id, true_customers in true_lookalikes.items():\n",
    "        if cust_id in predicted_lookalikes:\n",
    "            pred_customers = predicted_lookalikes[cust_id]\n",
    "            \n",
    "            # Find the rank of the first relevant customer\n",
    "            for rank, cust in enumerate(pred_customers, start=1):\n",
    "                if cust in true_customers:\n",
    "                    mrr_scores.append(1 / rank)\n",
    "                    break\n",
    "    \n",
    "    return np.mean(mrr_scores) if mrr_scores else 0\n",
    "\n",
    "# Compute additional metrics\n",
    "precision_k = precision_at_k(true_lookalikes, predicted_lookalikes, k=3)\n",
    "mrr_score = mean_reciprocal_rank(true_lookalikes, predicted_lookalikes)\n",
    "\n",
    "print(f\"Precision@3: {precision_k*100:.4f}\")\n",
    "print(f\"Mean Reciprocal Rank (MRR): {mrr_score*100:.4f}\")\n"
   ]
  }
 ],
 "metadata": {
  "kernelspec": {
   "display_name": "Python 3 (ipykernel)",
   "language": "python",
   "name": "python3"
  },
  "language_info": {
   "codemirror_mode": {
    "name": "ipython",
    "version": 3
   },
   "file_extension": ".py",
   "mimetype": "text/x-python",
   "name": "python",
   "nbconvert_exporter": "python",
   "pygments_lexer": "ipython3",
   "version": "3.12.8"
  }
 },
 "nbformat": 4,
 "nbformat_minor": 5
}
